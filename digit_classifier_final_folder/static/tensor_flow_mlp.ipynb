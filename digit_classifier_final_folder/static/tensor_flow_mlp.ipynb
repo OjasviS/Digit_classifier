{
 "cells": [
  {
   "cell_type": "markdown",
   "id": "7d9cb5e1-e9c7-4c40-ab04-aa86cf79cca0",
   "metadata": {},
   "source": [
    "<h1>Handwritten Digit Classification Project</h1>\n",
    "<b><p>This project focuses on building and deploying a neural network to classify handwritten digits (0–9) using the MNIST dataset. The model is integrated into a full-stack web application that allows users to draw digits and receive real-time predictions.</p></b>"
   ]
  },
  {
   "cell_type": "markdown",
   "id": "fd6e3c95-59af-4b34-8309-850efdd640c2",
   "metadata": {},
   "source": [
    "<h2>Required libraries</h2>"
   ]
  },
  {
   "cell_type": "code",
   "execution_count": 1,
   "id": "8a5e3778-cdf4-41b6-977f-e1b31f3bc083",
   "metadata": {},
   "outputs": [],
   "source": [
    "import tensorflow as tf\n",
    "from tensorflow.keras import models\n",
    "from tensorflow.keras import layers\n",
    "from tensorflow.keras.datasets import mnist\n",
    "%matplotlib inline\n",
    "import matplotlib\n",
    "import matplotlib.pyplot as plt"
   ]
  },
  {
   "cell_type": "markdown",
   "id": "36f618d8-7c38-40a3-9555-523a56420372",
   "metadata": {},
   "source": [
    "<h2>Data cleaning</h2>"
   ]
  },
  {
   "cell_type": "markdown",
   "id": "717bfa27-4673-4255-ba3b-3ea1ca9dc3ed",
   "metadata": {},
   "source": [
    "<p>The MNIST data set was used to train the model.</p>\n",
    "<h3>The main steps carried out are :</h3>\n",
    "<div>\n",
    "    <p>>&nbsp;&nbsp;&nbsp;&nbsp;Reshaping the data so that each column coressponds to a data point instead of the row</p>\n",
    "    <p>>&nbsp;&nbsp;&nbsp;&nbsp;Normalizing the data</p>\n",
    "    <p>>&nbsp;&nbsp;&nbsp;&nbsp;making  sure that each pixel either coressponds to a 0 or a 1 value, as that is the data sent to the model.</p>\n",
    "</div>\n"
   ]
  },
  {
   "cell_type": "code",
   "execution_count": 2,
   "id": "1577e64e-a5fb-4756-8cc0-878898f535ab",
   "metadata": {},
   "outputs": [],
   "source": [
    "(X_train, y_train), (X_test, y_test) = mnist.load_data()\n",
    "\n",
    "X_train = tf.reshape(X_train, (-1, 28*28)) #each column corresponds to one of 784 pixels\n",
    "X_train = tf.cast(X_train, tf.float32) # chaning datatype from int to float\n",
    "X_train = X_train/(X_train.numpy().max()) #normalizing by dividing every gray scale value with the max gray scale value (255)\n",
    "X_train = tf.cast(X_train > 0.5, tf.float32)\n",
    "X_train = 1 - X_train\n",
    "\n",
    "X_test = tf.reshape(X_test, (-1, 28*28))\n",
    "X_test = tf.cast(X_test, tf.float32)\n",
    "X_test = X_test/(X_test.numpy().max())\n",
    "X_test =  tf.cast(X_test > 0.5, tf.float32)\n",
    "X_test = 1 - X_test"
   ]
  },
  {
   "cell_type": "markdown",
   "id": "63e45900-a88c-40fc-9e06-0947d2612e6f",
   "metadata": {},
   "source": [
    "<h2>Model used for classification</h2>\n",
    "<div>\n",
    "    <h3>Model Architecture</h3>\n",
    "    <p>A simple feesforward network was chosen to perform the classification. It's specifications are as follows:</p>\n",
    "    <div>\n",
    "        <p>&nbsp;&nbsp;&nbsp;&nbsp;<b>Input layer</b> : 784 neurons (one for each pixel)</p>\n",
    "        <p>&nbsp;&nbsp;&nbsp;&nbsp;<b>First Hidden layer</b>: 256 neurons, ReLu as the activation function.</p>\n",
    "        <p>&nbsp;&nbsp;&nbsp;&nbsp;<b>second Hidden layer</b>: 64 neurons, ReLu as the activation function.</p>\n",
    "        <p>&nbsp;&nbsp;&nbsp;&nbsp;<b>output layer</b>: 10 neurons, softmax as the activation function as it gives a value between 0 and 1, this indicates the probability how  sure the netwok is classifing the digit.</p>\n",
    "    </div>       \n",
    "</div>\n",
    "\n",
    "<div>\n",
    "    <h3>Objective function and Optemizer</h3>\n",
    "    <p>&nbsp;&nbsp;&nbsp;&nbsp;<b>Optimizer</b>: Adam</p>\n",
    "    <p>&nbsp;&nbsp;&nbsp;&nbsp;<b>Objective function</b>:  sparse categorical entropy </p>\n",
    "</div>\n",
    "\n"
   ]
  },
  {
   "cell_type": "markdown",
   "id": "95e47962-c9cc-4296-b2b0-627964c3f99d",
   "metadata": {},
   "source": [
    "$$\n",
    "\\text{Loss} = -\\frac{1}{N} \\sum_{i=1}^{N} \\log(p_{i, y_i})\n",
    "$$"
   ]
  },
  {
   "cell_type": "code",
   "execution_count": 3,
   "id": "07de4ec7-f6eb-46c7-b173-ac24c7d6ef66",
   "metadata": {},
   "outputs": [
    {
     "name": "stdout",
     "output_type": "stream",
     "text": [
      "Model: \"sequential\"\n",
      "_________________________________________________________________\n",
      " Layer (type)                Output Shape              Param #   \n",
      "=================================================================\n",
      " dense (Dense)               (None, 256)               200960    \n",
      "                                                                 \n",
      " dense_1 (Dense)             (None, 64)                16448     \n",
      "                                                                 \n",
      " dense_2 (Dense)             (None, 10)                650       \n",
      "                                                                 \n",
      "=================================================================\n",
      "Total params: 218,058\n",
      "Trainable params: 218,058\n",
      "Non-trainable params: 0\n",
      "_________________________________________________________________\n"
     ]
    }
   ],
   "source": [
    "model = models.Sequential()\n",
    "\n",
    "model.add(layers.Dense(units = 256, activation = 'relu', input_shape = (784,)))\n",
    "model.add(layers.Dense(units = 64, activation = 'relu'))\n",
    "model.add(layers.Dense(units = 10, activation = 'softmax'))\n",
    "\n",
    "model.compile(\n",
    "    optimizer = 'adam',\n",
    "    loss = 'sparse_categorical_crossentropy',\n",
    "    metrics = ['accuracy']\n",
    ")\n",
    "\n",
    "model.summary()"
   ]
  },
  {
   "cell_type": "markdown",
   "id": "77152da4-5d7f-49c1-8eba-86d3519988f3",
   "metadata": {},
   "source": [
    "<h2>Model training</h2>"
   ]
  },
  {
   "cell_type": "code",
   "execution_count": 4,
   "id": "8a337721-fc7e-4e1c-9e59-27e3aae7c886",
   "metadata": {},
   "outputs": [
    {
     "name": "stdout",
     "output_type": "stream",
     "text": [
      "Epoch 1/10\n",
      "1875/1875 [==============================] - 4s 2ms/step - loss: 0.5046 - accuracy: 0.8457 - val_loss: 0.3338 - val_accuracy: 0.8941\n",
      "Epoch 2/10\n",
      "1875/1875 [==============================] - 4s 2ms/step - loss: 0.2925 - accuracy: 0.9094 - val_loss: 0.2649 - val_accuracy: 0.9194\n",
      "Epoch 3/10\n",
      "1875/1875 [==============================] - 4s 2ms/step - loss: 0.2222 - accuracy: 0.9312 - val_loss: 0.1975 - val_accuracy: 0.9370\n",
      "Epoch 4/10\n",
      "1875/1875 [==============================] - 4s 2ms/step - loss: 0.1904 - accuracy: 0.9414 - val_loss: 0.1635 - val_accuracy: 0.9465\n",
      "Epoch 5/10\n",
      "1875/1875 [==============================] - 4s 2ms/step - loss: 0.1638 - accuracy: 0.9487 - val_loss: 0.1442 - val_accuracy: 0.9558\n",
      "Epoch 6/10\n",
      "1875/1875 [==============================] - 4s 2ms/step - loss: 0.1481 - accuracy: 0.9536 - val_loss: 0.1453 - val_accuracy: 0.9544\n",
      "Epoch 7/10\n",
      "1875/1875 [==============================] - 4s 2ms/step - loss: 0.1307 - accuracy: 0.9599 - val_loss: 0.1418 - val_accuracy: 0.9551\n",
      "Epoch 8/10\n",
      "1875/1875 [==============================] - 4s 2ms/step - loss: 0.1248 - accuracy: 0.9603 - val_loss: 0.1180 - val_accuracy: 0.9633\n",
      "Epoch 9/10\n",
      "1875/1875 [==============================] - 3s 2ms/step - loss: 0.1151 - accuracy: 0.9628 - val_loss: 0.1208 - val_accuracy: 0.9616\n",
      "Epoch 10/10\n",
      "1875/1875 [==============================] - 4s 2ms/step - loss: 0.1073 - accuracy: 0.9661 - val_loss: 0.1122 - val_accuracy: 0.9644\n"
     ]
    }
   ],
   "source": [
    "history = model.fit(X_train, y_train, batch_size = 32, epochs = 10, validation_data = (X_test, y_test))"
   ]
  },
  {
   "cell_type": "code",
   "execution_count": 8,
   "id": "8dac5bdb-97af-4478-8e65-091f516f5dd9",
   "metadata": {},
   "outputs": [
    {
     "data": {
      "image/png": "[encoded data removed]",
      "text/plain": [
       "<Figure size 640x480 with 1 Axes>"
      ]
     },
     "metadata": {},
     "output_type": "display_data"
    },
    {
     "data": {
      "text/plain": [
       "<Figure size 640x480 with 0 Axes>"
      ]
     },
     "metadata": {},
     "output_type": "display_data"
    }
   ],
   "source": [
    "plt.plot(history.history['loss'], label = 'Traing Loss') # after each batch\n",
    "plt.plot(history.history['val_loss'], label = 'validation Loss') #after each epoch\n",
    "plt.xlabel('Epoch')\n",
    "plt.ylabel('Loss')\n",
    "plt.title('Model Loss Over Epochs')\n",
    "plt.legend()\n",
    "plt.grid(True)\n",
    "plt.show()\n",
    "plt.savefig('loss_training_validation.png')"
   ]
  },
  {
   "cell_type": "markdown",
   "id": "fe5eb6b8-361b-42ad-a072-7bd3ea7d9b05",
   "metadata": {},
   "source": [
    "<h2>Model Evaluation.</h2>"
   ]
  },
  {
   "cell_type": "code",
   "execution_count": 5,
   "id": "0f0ed9fd-5f34-408c-9971-01cd4c964668",
   "metadata": {},
   "outputs": [
    {
     "name": "stdout",
     "output_type": "stream",
     "text": [
      "313/313 [==============================] - 1s 2ms/step - loss: 0.1295 - accuracy: 0.9599\n"
     ]
    }
   ],
   "source": [
    "loss, accuracy = model.evaluate(X_test, y_test)"
   ]
  },
  {
   "cell_type": "markdown",
   "id": "092327e8-ac5a-4d7b-8bec-fff2655aa31e",
   "metadata": {},
   "source": [
    "<h5>Final Loss : 0.1295</h5>\n",
    "<h5>Final Accuracy : 95.99%</h5>"
   ]
  },
  {
   "cell_type": "markdown",
   "id": "634c064f-1289-4f56-ae51-78818f3f6b7b",
   "metadata": {},
   "source": [
    "<h2>Saving model for backend use</h2>"
   ]
  },
  {
   "cell_type": "code",
   "execution_count": 42,
   "id": "a8840156-718c-46f6-bb22-5d5e6c5c1ab7",
   "metadata": {},
   "outputs": [],
   "source": [
    "model.save(\"C:\\\\CS\\\\workspace\\\\digit_classifier_final_folder\\\\static\\\\models\\\\hand_written_digit_classifier.h5\")"
   ]
  }
 ],
 "metadata": {
  "kernelspec": {
   "display_name": "Python 3 (ipykernel)",
   "language": "python",
   "name": "python3"
  },
  "language_info": {
   "codemirror_mode": {
    "name": "ipython",
    "version": 3
   },
   "file_extension": ".py",
   "mimetype": "text/x-python",
   "name": "python",
   "nbconvert_exporter": "python",
   "pygments_lexer": "ipython3",
   "version": "3.9.21"
  }
 },
 "nbformat": 4,
 "nbformat_minor": 5
}
